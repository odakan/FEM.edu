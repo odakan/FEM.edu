{
 "cells": [
  {
   "cell_type": "markdown",
   "id": "16b169d0",
   "metadata": {},
   "source": [
    " # CESG 507 Final - Problem 1.        \n",
    " \n",
    "Mohammad Asakreh\n",
    "\n",
    "All three system options and one set of boundary conditions at nodes A and B.\n",
    "\n",
    "Boundary conditions: pinned-free."
   ]
  },
  {
   "cell_type": "code",
   "execution_count": 1,
   "id": "54742861",
   "metadata": {},
   "outputs": [],
   "source": [
    "import sys, os\n",
    "sys.path.insert(0, os.path.abspath(os.path.join(\"..\")))"
   ]
  },
  {
   "cell_type": "code",
   "execution_count": 2,
   "id": "c587658c",
   "metadata": {},
   "outputs": [],
   "source": [
    "from femedu.domain import *\n",
    "from femedu.solver.NewtonRaphsonSolver import *\n",
    "from femedu.elements.Frame2D import *\n",
    "from femedu.materials.ElasticSection import ElasticSection"
   ]
  },
  {
   "cell_type": "markdown",
   "id": "3436686e",
   "metadata": {},
   "source": [
    "# Model"
   ]
  },
  {
   "cell_type": "code",
   "execution_count": 5,
   "id": "937399c4",
   "metadata": {},
   "outputs": [],
   "source": [
    "# initialize a system model\n",
    "\n",
    "gamma1 = 1.5\n",
    "\n",
    "gamma2 = 2\n",
    "\n",
    "L = 100.          # length\n",
    "\n",
    "sysop = [1,2,3]   # system options (1 = stiff center, 2 = stiff ends, 3 = stiff bottom)\n",
    "\n",
    "\n",
    "for alpha in range(0, 11):\n",
    "    alpha = alpha / 10.0  # Convert alpha to a float between 0 and 1\n",
    "    \n",
    "    # Calculate span lengths for each option\n",
    "    \n",
    "    SpanLengths1 = [(1-alpha)*L/2, alpha*L, (1-alpha)*L/2]   # span length - option 1.\n",
    "    SpanLengths2 = [(alpha)*L/2, (1-alpha)*L, (alpha)*L/2]   # span length - option 2.\n",
    "    SpanLengths3 = [(alpha)*L/2, (alpha)*L/2, (1-alpha)*L]   # span length - option 3.\n",
    "\n",
    "\n",
    "#SpanLengths1 = [ (1-alpha)*L/2, alpha*L, (1-alpha)*L/2 ]   # span length - option 1.\n",
    "#SpanLengths2 = [ (alpha)*L/2, (1-alpha)*L, (alpha)*L/2 ]   # span length - option 2.\n",
    "#SpanLengths3 = [ (alpha)*L/2, (alpha)*L/2, (1-alpha)*L ]   # span length - option 3.\n",
    "\n",
    "Nelems = 2       # number of elements\n",
    " \n",
    "params1 = [{'E': 29000., 'A': 5, 'I': gamma1*100.},         # system parameters gamma 1.5\n",
    "          {'E': 29000., 'A': 5, 'I': 100.}, \n",
    "          {'E': 29000., 'A': 5, 'I': gamma1*100.}]\n",
    "\n",
    "params2 = [{'E': 29000., 'A': 5, 'I': gamma2*100.},         # system parameters gamma 2\n",
    "          {'E': 29000., 'A': 5, 'I': 100.}, \n",
    "          {'E': 29000., 'A': 5, 'I': gamma2*100.}]\n",
    "\n",
    "# ========== setting load parameters ==============\n",
    "\n",
    "w = -0.01                               # uniform lateral load on the column        \n",
    "\n",
    "Pcr = np.pi**2 * 29000. * 100. / L**2   # Euler buckling load\n",
    "\n",
    "# ========== setting analysis parameters ==============\n",
    "\n",
    "target_load_level = 1.95      # 195% of Euler load\n",
    "\n",
    "max_steps = 10            \n",
    "\n",
    "w   *= 0.01\n",
    "\n",
    "load_levels = np.linspace(0, target_load_level, max_steps)\n",
    "\n",
    "# meshing parameters\n",
    "\n",
    "Xnode  = 0.0\n",
    "\n",
    "Ynode  = 0.0\n",
    "\n",
    "model = System()\n",
    "\n",
    "model.setSolver(NewtonRaphsonSolver())\n",
    "\n",
    "# create left node\n",
    "\n",
    "nd0 = Node(Xnode, Ynode)\n",
    "\n",
    "nd0.fixDOF('ux', 'uy')    \n",
    "\n",
    "model += nd0\n",
    "\n",
    "ndi = nd0\n",
    "\n",
    "for SpanLength, param in zip(SpanLengths3, params2):\n",
    "\n",
    "    Le = SpanLength / Nelems\n",
    "    \n",
    "    # skip this span if it has zero length\n",
    "    if Le < 1.0e-5:\n",
    "        continue\n",
    "\n",
    "    for e in range(Nelems):\n",
    "                \n",
    "        # create next node\n",
    "        \n",
    "        Xnode += Le\n",
    "        ndj = Node(Xnode, Ynode)\n",
    "        model += ndj  \n",
    "    \n",
    "        # create elements\n",
    "        \n",
    "        elem = Frame2D(ndi, ndj, ElasticSection(param))\n",
    "        model += elem   \n",
    "            \n",
    "       # shift one node to the right\n",
    "    \n",
    "        ndi = ndj\n",
    "        \n",
    "        elem.setDistLoad(w)  \n",
    "\n",
    "# support\n",
    "\n",
    "ndi.fixDOF('uy')\n",
    "\n",
    "ndi.setLoad((-Pcr,), ('ux',))"
   ]
  },
  {
   "cell_type": "code",
   "execution_count": 6,
   "id": "aa2fa01e",
   "metadata": {},
   "outputs": [
    {
     "name": "stdout",
     "output_type": "stream",
     "text": [
      "System object\n",
      "Node_0(x=[0. 0.], u=None)\n",
      "Node_1(x=[25.  0.], u=None)\n",
      "Node_2(x=[50.  0.], u=None)\n",
      "Node_3(x=[75.  0.], u=None)\n",
      "Node_4(x=[100.   0.], u=None)\n",
      "Frame2D(Node_0, Node_1, ElasticSection(Material)({'E': 29000.0, 'A': 5, 'I': 200.0, 'nu': 0.0, 'fy': 1e+30}))\n",
      "Frame2D(Node_1, Node_2, ElasticSection(Material)({'E': 29000.0, 'A': 5, 'I': 200.0, 'nu': 0.0, 'fy': 1e+30}))\n",
      "Frame2D(Node_2, Node_3, ElasticSection(Material)({'E': 29000.0, 'A': 5, 'I': 100.0, 'nu': 0.0, 'fy': 1e+30}))\n",
      "Frame2D(Node_3, Node_4, ElasticSection(Material)({'E': 29000.0, 'A': 5, 'I': 100.0, 'nu': 0.0, 'fy': 1e+30}))\n"
     ]
    }
   ],
   "source": [
    "print(model)"
   ]
  },
  {
   "cell_type": "markdown",
   "id": "aa7635d3",
   "metadata": {},
   "source": [
    "# Analysis"
   ]
  },
  {
   "cell_type": "code",
   "execution_count": 7,
   "id": "08b62418",
   "metadata": {},
   "outputs": [
    {
     "name": "stdout",
     "output_type": "stream",
     "text": [
      "norm of the out-of-balance force:   0.0000e+00\n",
      "+\n",
      "\n",
      " ** Stability check: (smallest eigenvalue of Kt) = 93.48986343271282\n",
      "\n",
      "+\n",
      "\n",
      "=== next load level ===\n",
      "\n",
      "norm of the out-of-balance force:   6.2014e+02\n",
      "norm of the out-of-balance force:   2.7641e-04\n",
      "norm of the out-of-balance force:   5.5705e-13\n",
      "+\n",
      "\n",
      " ** Stability check: (smallest eigenvalue of Kt) = 77.94695364917709\n",
      "\n",
      "+\n",
      "\n",
      "=== next load level ===\n",
      "\n",
      "norm of the out-of-balance force:   6.2014e+02\n",
      "norm of the out-of-balance force:   6.7129e-04\n",
      "norm of the out-of-balance force:   6.8426e-13\n",
      "+\n",
      "\n",
      " ** Stability check: (smallest eigenvalue of Kt) = 62.38368660490452\n",
      "\n",
      "+\n",
      "\n",
      "=== next load level ===\n",
      "\n",
      "norm of the out-of-balance force:   6.2014e+02\n",
      "norm of the out-of-balance force:   1.2747e-03\n",
      "norm of the out-of-balance force:   8.5105e-13\n",
      "+\n",
      "\n",
      " ** Stability check: (smallest eigenvalue of Kt) = 46.79836110130267\n",
      "\n",
      "+\n",
      "\n",
      "=== next load level ===\n",
      "\n",
      "norm of the out-of-balance force:   6.2014e+02\n",
      "norm of the out-of-balance force:   2.2970e-03\n",
      "norm of the out-of-balance force:   1.2862e-12\n",
      "+\n",
      "\n",
      " ** Stability check: (smallest eigenvalue of Kt) = 31.189051330392296\n",
      "\n",
      "+\n",
      "\n",
      "=== next load level ===\n",
      "\n",
      "norm of the out-of-balance force:   6.2014e+02\n",
      "norm of the out-of-balance force:   4.3716e-03\n",
      "norm of the out-of-balance force:   3.7068e-15\n",
      "+\n",
      "\n",
      " ** Stability check: (smallest eigenvalue of Kt) = 15.553567839978946\n",
      "\n",
      "+\n",
      "\n",
      "=== next load level ===\n",
      "\n",
      "norm of the out-of-balance force:   6.2014e+02\n",
      "norm of the out-of-balance force:   1.0684e-02\n",
      "norm of the out-of-balance force:   2.3140e-12\n",
      "+\n",
      "\n",
      " ** Stability check: (smallest eigenvalue of Kt) = -0.11058993215636402\n",
      "\n"
     ]
    }
   ],
   "source": [
    "# initialize the analysis:\n",
    "\n",
    "model.resetDisplacements()   # U all zeros\n",
    "model.setLoadFactor(0.0)     # known equilibrium solution\n",
    "\n",
    "model.startRecorder()        \n",
    "\n",
    "detKt   = []\n",
    "\n",
    "lambdas = []\n",
    "\n",
    "for loadfactor in load_levels:\n",
    "\n",
    "    model.setLoadFactor(loadfactor)\n",
    "    model.solve(verbose=True)\n",
    "\n",
    "    # stability check\n",
    "    \n",
    "    lambdas.append(model.loadfactor)\n",
    "    dKt = model.solver.checkStability()\n",
    "    detKt.append(dKt)\n",
    "\n",
    "    if dKt < 0.0:\n",
    "        break\n",
    "\n",
    "    # print results\n",
    "    \n",
    "    print('+')\n",
    "\n",
    "    print(\"\\n=== next load level ===\\n\")\n",
    "    \n",
    "    alp = np.linspace(0, 0.1, 1)\n",
    "\n"
   ]
  },
  {
   "cell_type": "markdown",
   "id": "ef252702",
   "metadata": {},
   "source": [
    "# Plot"
   ]
  },
  {
   "cell_type": "code",
   "execution_count": 8,
   "id": "9a06a634",
   "metadata": {},
   "outputs": [
    {
     "data": {
      "image/png": "[encoded data removed]",
      "text/plain": [
       "<Figure size 432x288 with 1 Axes>"
      ]
     },
     "metadata": {
      "needs_background": "light"
     },
     "output_type": "display_data"
    },
    {
     "data": {
      "image/png": "[encoded data removed]",
      "text/plain": [
       "<Figure size 432x288 with 1 Axes>"
      ]
     },
     "metadata": {
      "needs_background": "light"
     },
     "output_type": "display_data"
    },
    {
     "data": {
      "image/png": "[encoded data removed]",
      "text/plain": [
       "<Figure size 432x288 with 1 Axes>"
      ]
     },
     "metadata": {
      "needs_background": "light"
     },
     "output_type": "display_data"
    },
    {
     "data": {
      "image/png": "[encoded data removed]",
      "text/plain": [
       "<Figure size 432x288 with 1 Axes>"
      ]
     },
     "metadata": {
      "needs_background": "light"
     },
     "output_type": "display_data"
    },
    {
     "data": {
      "image/png": "[encoded data removed]",
      "text/plain": [
       "<Figure size 432x288 with 1 Axes>"
      ]
     },
     "metadata": {
      "needs_background": "light"
     },
     "output_type": "display_data"
    },
    {
     "data": {
      "image/png": "[encoded data removed]",
      "text/plain": [
       "<Figure size 432x288 with 1 Axes>"
      ]
     },
     "metadata": {
      "needs_background": "light"
     },
     "output_type": "display_data"
    }
   ],
   "source": [
    "plt.plot(lambdas,detKt,'--ob')\n",
    "plt.grid(True)\n",
    "plt.xlabel('Load factor, $ \\lambda $')\n",
    "plt.ylabel(\"Stability index, $ {det}\\: {\\\\bf K}_t $\")\n",
    "plt.show()\n",
    "\n",
    "model.plot(factor=1000.0, filename=\"beam2_deformed.png\")\n",
    "\n",
    "model.beamValuePlot(\"F\", filename=\"beam2_force.png\")\n",
    "model.beamValuePlot(\"M\", filename=\"beam2_moment.png\")\n",
    "model.beamValuePlot(\"V\", filename=\"beam2_shear.png\")\n",
    "\n",
    "model.plotBucklingMode(factor=10., filename=\"beam2_buckling_mode0.png\")"
   ]
  },
  {
   "cell_type": "code",
   "execution_count": null,
   "id": "33156a65",
   "metadata": {},
   "outputs": [],
   "source": []
  },
  {
   "cell_type": "code",
   "execution_count": null,
   "id": "3ee88921",
   "metadata": {},
   "outputs": [],
   "source": []
  },
  {
   "cell_type": "code",
   "execution_count": null,
   "id": "42916451",
   "metadata": {},
   "outputs": [],
   "source": []
  }
 ],
 "metadata": {
  "kernelspec": {
   "display_name": "Python 3 (ipykernel)",
   "language": "python",
   "name": "python3"
  },
  "language_info": {
   "codemirror_mode": {
    "name": "ipython",
    "version": 3
   },
   "file_extension": ".py",
   "mimetype": "text/x-python",
   "name": "python",
   "nbconvert_exporter": "python",
   "pygments_lexer": "ipython3",
   "version": "3.10.8"
  }
 },
 "nbformat": 4,
 "nbformat_minor": 5
}
