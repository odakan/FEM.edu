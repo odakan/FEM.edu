{
 "cells": [
  {
   "cell_type": "markdown",
   "id": "9c59a118",
   "metadata": {},
   "source": [
    "# A Finite Element Examples: Truss 02\n",
    "\n",
    "This example shows how to run the truss02 example distributed with FEM.edu"
   ]
  },
  {
   "cell_type": "markdown",
   "id": "59ec54b3",
   "metadata": {},
   "source": [
    "## Load needed components"
   ]
  },
  {
   "cell_type": "markdown",
   "id": "606af4c0",
   "metadata": {},
   "source": [
    "We need to add the local code to the path or python won't find FEM.edu"
   ]
  },
  {
   "cell_type": "code",
   "execution_count": null,
   "id": "87e9aa99",
   "metadata": {},
   "outputs": [],
   "source": [
    "import sys, os\n",
    "sys.path.insert(0, os.path.abspath(os.path.join(\"..\")))"
   ]
  },
  {
   "cell_type": "markdown",
   "id": "0cbe6efe",
   "metadata": {},
   "source": [
    "## Loading the Example"
   ]
  },
  {
   "cell_type": "code",
   "execution_count": null,
   "id": "8677f776",
   "metadata": {},
   "outputs": [],
   "source": [
    "from femedu.examples.trusses.truss02 import *\n",
    "\n",
    "# load the example\n",
    "ex = ExampleTruss02()\n",
    "\n",
    "# print the doc-string for the current example\n",
    "print(ex)"
   ]
  },
  {
   "cell_type": "markdown",
   "id": "e6818727",
   "metadata": {},
   "source": [
    "## Running the Example"
   ]
  },
  {
   "cell_type": "code",
   "execution_count": null,
   "id": "bc78b102",
   "metadata": {},
   "outputs": [],
   "source": [
    "# run the actual problem\n",
    "ex.run()\n"
   ]
  },
  {
   "cell_type": "markdown",
   "id": "0a675010",
   "metadata": {},
   "source": [
    "## More information\n",
    "\n",
    "You can find the example input in `femedu/examples/trusses/truss02.py`"
   ]
  },
  {
   "cell_type": "code",
   "execution_count": null,
   "id": "2d54e4d2",
   "metadata": {},
   "outputs": [],
   "source": [
    "from IPython.display import Code\n",
    "\n",
    "Code(filename='../femedu/examples/trusses/truss02.py', language='python')\n"
   ]
  },
  {
   "cell_type": "code",
   "execution_count": null,
   "id": "75cc3753",
   "metadata": {},
   "outputs": [],
   "source": []
  }
 ],
 "metadata": {
  "kernelspec": {
   "display_name": "Python 3 (ipykernel)",
   "language": "python",
   "name": "python3"
  },
  "language_info": {
   "codemirror_mode": {
    "name": "ipython",
    "version": 3
   },
   "file_extension": ".py",
   "mimetype": "text/x-python",
   "name": "python",
   "nbconvert_exporter": "python",
   "pygments_lexer": "ipython3",
   "version": "3.10.8"
  }
 },
 "nbformat": 4,
 "nbformat_minor": 5
}
