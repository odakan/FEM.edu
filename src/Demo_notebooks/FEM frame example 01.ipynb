{
 "cells": [
  {
   "cell_type": "markdown",
   "id": "9c59a118",
   "metadata": {},
   "source": [
    "# A Finite Element Examples: Frame 01\n",
    "\n",
    "This example is based on the frame01 example distributed with FEM.edu"
   ]
  },
  {
   "cell_type": "markdown",
   "id": "59ec54b3",
   "metadata": {},
   "source": [
    "## Load needed components"
   ]
  },
  {
   "cell_type": "markdown",
   "id": "606af4c0",
   "metadata": {},
   "source": [
    "We need to add the local code to the path or python won't find FEM.edu"
   ]
  },
  {
   "cell_type": "code",
   "execution_count": 1,
   "id": "87e9aa99",
   "metadata": {},
   "outputs": [],
   "source": [
    "import sys, os\n",
    "sys.path.insert(0, os.path.abspath(os.path.join(\"..\")))"
   ]
  },
  {
   "cell_type": "markdown",
   "id": "0cbe6efe",
   "metadata": {},
   "source": [
    "Now load the needed components of FEM.edu"
   ]
  },
  {
   "cell_type": "code",
   "execution_count": 2,
   "id": "8677f776",
   "metadata": {},
   "outputs": [],
   "source": [
    "from femedu.domain import *\n",
    "from femedu.solver.NewtonRaphsonSolver import *\n",
    "from femedu.elements.Frame2D import *\n",
    "from femedu.materials.ElasticSection import *"
   ]
  },
  {
   "cell_type": "markdown",
   "id": "e6818727",
   "metadata": {},
   "source": [
    "## Build a model"
   ]
  },
  {
   "cell_type": "code",
   "execution_count": 3,
   "id": "27c5939c",
   "metadata": {},
   "outputs": [],
   "source": [
    "# initialize a system model\n",
    "\n",
    "N  = 16     # number of elements\n",
    "L  = 100.0\n",
    "E  = 20000.\n",
    "EA = 2000000.0\n",
    "EI = 210000.0\n",
    "w  = -0.1\n",
    "\n",
    "params = {'E': E, 'A': EA/E, 'I': EI/E}\n",
    "\n",
    "model = System()\n",
    "model.setSolver(NewtonRaphsonSolver())\n",
    "\n",
    "# create nodes\n",
    "\n",
    "nd0 = Node(0.0, 0.0)\n",
    "model += nd0\n",
    "\n",
    "ndi = nd0\n",
    "for i in range(N):\n",
    "    # nodes\n",
    "    ndj = Node( (i+1)*L/N, 0.0 )\n",
    "    model += ndj\n",
    "\n",
    "    # elements\n",
    "    elem = Frame2D(ndi, ndj, ElasticSection(params))\n",
    "    elem.setDistLoad(w)\n",
    "    model += elem\n",
    "\n",
    "    ndi = ndj\n",
    "\n",
    "# define support(s)\n",
    "nd0.fixDOF('ux', 'uy')    # horizontal support left end\n",
    "ndi.fixDOF('uy')          # vertical support right end\n",
    "\n"
   ]
  },
  {
   "cell_type": "markdown",
   "id": "fc41d46e",
   "metadata": {},
   "source": [
    "## Load the model and solve"
   ]
  },
  {
   "cell_type": "code",
   "execution_count": 4,
   "id": "d39cabf8",
   "metadata": {},
   "outputs": [
    {
     "name": "stdout",
     "output_type": "stream",
     "text": [
      "System object\n",
      "Node0({'ux': 0, 'uy': 1, 'rz': 2}, x=[0. 0.], u=None)\n",
      "Node1({'ux': 0, 'uy': 1, 'rz': 2}, x=[6.25 0.  ], u=None)\n",
      "Node2({'ux': 0, 'uy': 1, 'rz': 2}, x=[12.5  0. ], u=None)\n",
      "Node3({'ux': 0, 'uy': 1, 'rz': 2}, x=[18.75  0.  ], u=None)\n",
      "Node4({'ux': 0, 'uy': 1, 'rz': 2}, x=[25.  0.], u=None)\n",
      "Node5({'ux': 0, 'uy': 1, 'rz': 2}, x=[31.25  0.  ], u=None)\n",
      "Node6({'ux': 0, 'uy': 1, 'rz': 2}, x=[37.5  0. ], u=None)\n",
      "Node7({'ux': 0, 'uy': 1, 'rz': 2}, x=[43.75  0.  ], u=None)\n",
      "Node8({'ux': 0, 'uy': 1, 'rz': 2}, x=[50.  0.], u=None)\n",
      "Node9({'ux': 0, 'uy': 1, 'rz': 2}, x=[56.25  0.  ], u=None)\n",
      "Node10({'ux': 0, 'uy': 1, 'rz': 2}, x=[62.5  0. ], u=None)\n",
      "Node11({'ux': 0, 'uy': 1, 'rz': 2}, x=[68.75  0.  ], u=None)\n",
      "Node12({'ux': 0, 'uy': 1, 'rz': 2}, x=[75.  0.], u=None)\n",
      "Node13({'ux': 0, 'uy': 1, 'rz': 2}, x=[81.25  0.  ], u=None)\n",
      "Node14({'ux': 0, 'uy': 1, 'rz': 2}, x=[87.5  0. ], u=None)\n",
      "Node15({'ux': 0, 'uy': 1, 'rz': 2}, x=[93.75  0.  ], u=None)\n",
      "Node16({'ux': 0, 'uy': 1, 'rz': 2}, x=[100.   0.], u=None)\n",
      "Frame2D(Node0({'ux': 0, 'uy': 1, 'rz': 2}, x=[0. 0.], u=None),Node1({'ux': 0, 'uy': 1, 'rz': 2}, x=[6.25 0.  ], u=None),ElasticSection(Material)({'E': 20000.0, 'A': 100.0, 'I': 10.5, 'nu': 0.0, 'fy': 1e+30}))\n",
      "Frame2D(Node1({'ux': 0, 'uy': 1, 'rz': 2}, x=[6.25 0.  ], u=None),Node2({'ux': 0, 'uy': 1, 'rz': 2}, x=[12.5  0. ], u=None),ElasticSection(Material)({'E': 20000.0, 'A': 100.0, 'I': 10.5, 'nu': 0.0, 'fy': 1e+30}))\n",
      "Frame2D(Node2({'ux': 0, 'uy': 1, 'rz': 2}, x=[12.5  0. ], u=None),Node3({'ux': 0, 'uy': 1, 'rz': 2}, x=[18.75  0.  ], u=None),ElasticSection(Material)({'E': 20000.0, 'A': 100.0, 'I': 10.5, 'nu': 0.0, 'fy': 1e+30}))\n",
      "Frame2D(Node3({'ux': 0, 'uy': 1, 'rz': 2}, x=[18.75  0.  ], u=None),Node4({'ux': 0, 'uy': 1, 'rz': 2}, x=[25.  0.], u=None),ElasticSection(Material)({'E': 20000.0, 'A': 100.0, 'I': 10.5, 'nu': 0.0, 'fy': 1e+30}))\n",
      "Frame2D(Node4({'ux': 0, 'uy': 1, 'rz': 2}, x=[25.  0.], u=None),Node5({'ux': 0, 'uy': 1, 'rz': 2}, x=[31.25  0.  ], u=None),ElasticSection(Material)({'E': 20000.0, 'A': 100.0, 'I': 10.5, 'nu': 0.0, 'fy': 1e+30}))\n",
      "Frame2D(Node5({'ux': 0, 'uy': 1, 'rz': 2}, x=[31.25  0.  ], u=None),Node6({'ux': 0, 'uy': 1, 'rz': 2}, x=[37.5  0. ], u=None),ElasticSection(Material)({'E': 20000.0, 'A': 100.0, 'I': 10.5, 'nu': 0.0, 'fy': 1e+30}))\n",
      "Frame2D(Node6({'ux': 0, 'uy': 1, 'rz': 2}, x=[37.5  0. ], u=None),Node7({'ux': 0, 'uy': 1, 'rz': 2}, x=[43.75  0.  ], u=None),ElasticSection(Material)({'E': 20000.0, 'A': 100.0, 'I': 10.5, 'nu': 0.0, 'fy': 1e+30}))\n",
      "Frame2D(Node7({'ux': 0, 'uy': 1, 'rz': 2}, x=[43.75  0.  ], u=None),Node8({'ux': 0, 'uy': 1, 'rz': 2}, x=[50.  0.], u=None),ElasticSection(Material)({'E': 20000.0, 'A': 100.0, 'I': 10.5, 'nu': 0.0, 'fy': 1e+30}))\n",
      "Frame2D(Node8({'ux': 0, 'uy': 1, 'rz': 2}, x=[50.  0.], u=None),Node9({'ux': 0, 'uy': 1, 'rz': 2}, x=[56.25  0.  ], u=None),ElasticSection(Material)({'E': 20000.0, 'A': 100.0, 'I': 10.5, 'nu': 0.0, 'fy': 1e+30}))\n",
      "Frame2D(Node9({'ux': 0, 'uy': 1, 'rz': 2}, x=[56.25  0.  ], u=None),Node10({'ux': 0, 'uy': 1, 'rz': 2}, x=[62.5  0. ], u=None),ElasticSection(Material)({'E': 20000.0, 'A': 100.0, 'I': 10.5, 'nu': 0.0, 'fy': 1e+30}))\n",
      "Frame2D(Node10({'ux': 0, 'uy': 1, 'rz': 2}, x=[62.5  0. ], u=None),Node11({'ux': 0, 'uy': 1, 'rz': 2}, x=[68.75  0.  ], u=None),ElasticSection(Material)({'E': 20000.0, 'A': 100.0, 'I': 10.5, 'nu': 0.0, 'fy': 1e+30}))\n",
      "Frame2D(Node11({'ux': 0, 'uy': 1, 'rz': 2}, x=[68.75  0.  ], u=None),Node12({'ux': 0, 'uy': 1, 'rz': 2}, x=[75.  0.], u=None),ElasticSection(Material)({'E': 20000.0, 'A': 100.0, 'I': 10.5, 'nu': 0.0, 'fy': 1e+30}))\n",
      "Frame2D(Node12({'ux': 0, 'uy': 1, 'rz': 2}, x=[75.  0.], u=None),Node13({'ux': 0, 'uy': 1, 'rz': 2}, x=[81.25  0.  ], u=None),ElasticSection(Material)({'E': 20000.0, 'A': 100.0, 'I': 10.5, 'nu': 0.0, 'fy': 1e+30}))\n",
      "Frame2D(Node13({'ux': 0, 'uy': 1, 'rz': 2}, x=[81.25  0.  ], u=None),Node14({'ux': 0, 'uy': 1, 'rz': 2}, x=[87.5  0. ], u=None),ElasticSection(Material)({'E': 20000.0, 'A': 100.0, 'I': 10.5, 'nu': 0.0, 'fy': 1e+30}))\n",
      "Frame2D(Node14({'ux': 0, 'uy': 1, 'rz': 2}, x=[87.5  0. ], u=None),Node15({'ux': 0, 'uy': 1, 'rz': 2}, x=[93.75  0.  ], u=None),ElasticSection(Material)({'E': 20000.0, 'A': 100.0, 'I': 10.5, 'nu': 0.0, 'fy': 1e+30}))\n",
      "Frame2D(Node15({'ux': 0, 'uy': 1, 'rz': 2}, x=[93.75  0.  ], u=None),Node16({'ux': 0, 'uy': 1, 'rz': 2}, x=[100.   0.], u=None),ElasticSection(Material)({'E': 20000.0, 'A': 100.0, 'I': 10.5, 'nu': 0.0, 'fy': 1e+30}))\n",
      "norm of the out-of-balance force:   1.0366e+02\n",
      "norm of the out-of-balance force:   1.1194e+00\n",
      "norm of the out-of-balance force:   1.7353e-09\n",
      "+\n",
      "\n",
      "System Analysis Report\n",
      "=======================\n",
      "\n",
      "Nodes:\n",
      "---------------------\n",
      "  Node 0: {'ux': 0, 'uy': 1, 'rz': 2}\n",
      "          x:[0. 0.], fix:['ux', 'uy'], \n",
      "          P:[0. 0. 0.], u:[ 0.         0.        -0.0391288]\n",
      "  Node 1: {'ux': 0, 'uy': 1, 'rz': 2}\n",
      "          x:[6.25 0.  ], fix:[], \n",
      "          P:[0. 0. 0.], u:[-0.00032385 -0.24289291 -0.03832666]\n",
      "  Node 2: {'ux': 0, 'uy': 1, 'rz': 2}\n",
      "          x:[12.5  0. ], fix:[], \n",
      "          P:[0. 0. 0.], u:[-0.00064769 -0.47585181 -0.03597441]\n",
      "  Node 3: {'ux': 0, 'uy': 1, 'rz': 2}\n",
      "          x:[18.75  0.  ], fix:[], \n",
      "          P:[0. 0. 0.], u:[-0.00097154 -0.68967789 -0.03223338]\n",
      "  Node 4: {'ux': 0, 'uy': 1, 'rz': 2}\n",
      "          x:[25.  0.], fix:[], \n",
      "          P:[0. 0. 0.], u:[-0.00129539 -0.87626599 -0.02729165]\n",
      "  Node 5: {'ux': 0, 'uy': 1, 'rz': 2}\n",
      "          x:[31.25  0.  ], fix:[], \n",
      "          P:[0. 0. 0.], u:[-0.00161923 -1.02876062 -0.02136038]\n",
      "  Node 6: {'ux': 0, 'uy': 1, 'rz': 2}\n",
      "          x:[37.5  0. ], fix:[], \n",
      "          P:[0. 0. 0.], u:[-0.00194308 -1.14168788 -0.01466982]\n",
      "  Node 7: {'ux': 0, 'uy': 1, 'rz': 2}\n",
      "          x:[43.75  0.  ], fix:[], \n",
      "          P:[0. 0. 0.], u:[-0.00226692 -1.21106081 -0.00746478]\n",
      "  Node 8: {'ux': 0, 'uy': 1, 'rz': 2}\n",
      "          x:[50.  0.], fix:[], \n",
      "          P:[0. 0. 0.], u:[-2.59077116e-03 -1.23445611e+00  5.04785586e-14]\n",
      "  Node 9: {'ux': 0, 'uy': 1, 'rz': 2}\n",
      "          x:[56.25  0.  ], fix:[], \n",
      "          P:[0. 0. 0.], u:[-0.00291462 -1.21106081  0.00746478]\n",
      "  Node 10: {'ux': 0, 'uy': 1, 'rz': 2}\n",
      "          x:[62.5  0. ], fix:[], \n",
      "          P:[0. 0. 0.], u:[-0.00323846 -1.14168788  0.01466982]\n",
      "  Node 11: {'ux': 0, 'uy': 1, 'rz': 2}\n",
      "          x:[68.75  0.  ], fix:[], \n",
      "          P:[0. 0. 0.], u:[-0.00356231 -1.02876062  0.02136038]\n",
      "  Node 12: {'ux': 0, 'uy': 1, 'rz': 2}\n",
      "          x:[75.  0.], fix:[], \n",
      "          P:[0. 0. 0.], u:[-0.00388616 -0.87626599  0.02729165]\n",
      "  Node 13: {'ux': 0, 'uy': 1, 'rz': 2}\n",
      "          x:[81.25  0.  ], fix:[], \n",
      "          P:[0. 0. 0.], u:[-0.00421    -0.68967789  0.03223338]\n",
      "  Node 14: {'ux': 0, 'uy': 1, 'rz': 2}\n",
      "          x:[87.5  0. ], fix:[], \n",
      "          P:[0. 0. 0.], u:[-0.00453385 -0.47585181  0.03597441]\n",
      "  Node 15: {'ux': 0, 'uy': 1, 'rz': 2}\n",
      "          x:[93.75  0.  ], fix:[], \n",
      "          P:[0. 0. 0.], u:[-0.0048577  -0.24289291  0.03832666]\n",
      "  Node 16: {'ux': 0, 'uy': 1, 'rz': 2}\n",
      "          x:[100.   0.], fix:['uy'], \n",
      "          P:[-103.63084621    0.            0.        ], u:[-0.00518154  0.          0.0391288 ]\n",
      "\n",
      "Elements:\n",
      "---------------------\n",
      "  Frame2D: node 0 to node 1:\n",
      "     material properties: ElasticSection(Material)({'E': 20000.0, 'A': 100.0, 'I': 10.5, 'nu': 0.0, 'fy': 1e+30})  strain:{'axial': -5.1815423105719126e-05, 'flexure': 0.0}   stress:{'axial': -103.63084621143825, 'flexure': 0.0}  \n",
      "     internal force: -103.63084621143825\n",
      "     Pi:[ 103.63084621143825 4.999999999982265 -5.391787571973339e-10 ]  Pj:[ -103.63084621143825 -4.374999999982265 54.46807249245406 ]\n",
      "  Frame2D: node 1 to node 2:\n",
      "     material properties: ElasticSection(Material)({'E': 20000.0, 'A': 100.0, 'I': 10.5, 'nu': 0.0, 'fy': 1e+30})  strain:{'axial': -5.1815423105719126e-05, 'flexure': 0.0}   stress:{'axial': -103.63084621143825, 'flexure': 0.0}  \n",
      "     internal force: -103.63084621143825\n",
      "     Pi:[ 103.63084621143825 4.374999999982265 -54.468072493510896 ]  Pj:[ -103.63084621143825 -3.749999999982265 104.00042547495862 ]\n",
      "  Frame2D: node 2 to node 3:\n",
      "     material properties: ElasticSection(Material)({'E': 20000.0, 'A': 100.0, 'I': 10.5, 'nu': 0.0, 'fy': 1e+30})  strain:{'axial': -5.1815423105719126e-05, 'flexure': 0.0}   stress:{'axial': -103.63084621143825, 'flexure': 0.0}  \n",
      "     internal force: -103.63084621143825\n",
      "     Pi:[ 103.63084621143825 3.7499999999849933 -104.00042547547567 ]  Pj:[ -103.63084621143825 -3.1249999999849933 147.64377783246377 ]\n",
      "  Frame2D: node 3 to node 4:\n",
      "     material properties: ElasticSection(Material)({'E': 20000.0, 'A': 100.0, 'I': 10.5, 'nu': 0.0, 'fy': 1e+30})  strain:{'axial': -5.1815423105719126e-05, 'flexure': 0.0}   stress:{'axial': -103.63084621143825, 'flexure': 0.0}  \n",
      "     internal force: -103.63084621143825\n",
      "     Pi:[ 103.63084621143825 3.124999999985903 -147.64377783294967 ]  Pj:[ -103.63084621143825 -2.499999999985903 184.55818595185914 ]\n",
      "  Frame2D: node 4 to node 5:\n",
      "     material properties: ElasticSection(Material)({'E': 20000.0, 'A': 100.0, 'I': 10.5, 'nu': 0.0, 'fy': 1e+30})  strain:{'axial': -5.1815423105719126e-05, 'flexure': 0.0}   stress:{'axial': -103.63084621143825, 'flexure': 0.0}  \n",
      "     internal force: -103.63084621143825\n",
      "     Pi:[ 103.63084621143825 2.4999999999852207 -184.55818595233913 ]  Pj:[ -103.63084621143825 -1.8749999999852207 214.03320896015006 ]\n",
      "  Frame2D: node 5 to node 6:\n",
      "     material properties: ElasticSection(Material)({'E': 20000.0, 'A': 100.0, 'I': 10.5, 'nu': 0.0, 'fy': 1e+30})  strain:{'axial': -5.1815423105719126e-05, 'flexure': 0.0}   stress:{'axial': -103.63084621143825, 'flexure': 0.0}  \n",
      "     internal force: -103.63084621143825\n",
      "     Pi:[ 103.63084621143825 1.8749999999849933 -214.03320896015506 ]  Pj:[ -103.63084621143825 -1.2499999999849933 235.5015816034182 ]\n",
      "  Frame2D: node 6 to node 7:\n",
      "     material properties: ElasticSection(Material)({'E': 20000.0, 'A': 100.0, 'I': 10.5, 'nu': 0.0, 'fy': 1e+30})  strain:{'axial': -5.1815423105719126e-05, 'flexure': 0.0}   stress:{'axial': -103.63084621143825, 'flexure': 0.0}  \n",
      "     internal force: -103.63084621143825\n",
      "     Pi:[ 103.63084621143825 1.2499999999846523 -235.50158160360476 ]  Pj:[ -103.63084621143825 -0.6249999999846523 248.55013162303428 ]\n",
      "  Frame2D: node 7 to node 8:\n",
      "     material properties: ElasticSection(Material)({'E': 20000.0, 'A': 100.0, 'I': 10.5, 'nu': 0.0, 'fy': 1e+30})  strain:{'axial': -5.1815423105719126e-05, 'flexure': 0.0}   stress:{'axial': -103.63084621143825, 'flexure': 0.0}  \n",
      "     internal force: -103.63084621143825\n",
      "     Pi:[ 103.63084621143825 0.6249999999839417 -248.55013162320728 ]  Pj:[ -103.63084621143825 1.6058265828178264e-11 252.92773151223082 ]\n",
      "  Frame2D: node 8 to node 9:\n",
      "     material properties: ElasticSection(Material)({'E': 20000.0, 'A': 100.0, 'I': 10.5, 'nu': 0.0, 'fy': 1e+30})  strain:{'axial': -5.1815423105719126e-05, 'flexure': 0.0}   stress:{'axial': -103.63084621143825, 'flexure': 0.0}  \n",
      "     internal force: -103.63084621143825\n",
      "     Pi:[ 103.63084621143825 -1.531930138298776e-11 -252.92773151223028 ]  Pj:[ -103.63084621143825 0.6250000000153193 248.55013162294617 ]\n",
      "  Frame2D: node 9 to node 10:\n",
      "     material properties: ElasticSection(Material)({'E': 20000.0, 'A': 100.0, 'I': 10.5, 'nu': 0.0, 'fy': 1e+30})  strain:{'axial': -5.1815423105719126e-05, 'flexure': 0.0}   stress:{'axial': -103.63084621143825, 'flexure': 0.0}  \n",
      "     internal force: -103.63084621143825\n",
      "     Pi:[ 103.63084621143825 -0.6250000000162572 -248.55013162278837 ]  Pj:[ -103.63084621143825 1.2500000000162572 235.50158160310306 ]\n",
      "  Frame2D: node 10 to node 11:\n",
      "     material properties: ElasticSection(Material)({'E': 20000.0, 'A': 100.0, 'I': 10.5, 'nu': 0.0, 'fy': 1e+30})  strain:{'axial': -5.1815423105719126e-05, 'flexure': 0.0}   stress:{'axial': -103.63084621143825, 'flexure': 0.0}  \n",
      "     internal force: -103.63084621143825\n",
      "     Pi:[ 103.63084621143825 -1.2500000000168257 -235.50158160265605 ]  Pj:[ -103.63084621143825 1.8750000000168257 214.03320895914598 ]\n",
      "  Frame2D: node 11 to node 12:\n",
      "     material properties: ElasticSection(Material)({'E': 20000.0, 'A': 100.0, 'I': 10.5, 'nu': 0.0, 'fy': 1e+30})  strain:{'axial': -5.1815423105719126e-05, 'flexure': 0.0}   stress:{'axial': -103.63084621143825, 'flexure': 0.0}  \n",
      "     internal force: -103.63084621143825\n",
      "     Pi:[ 103.63084621143825 -1.8750000000159162 -214.03320895884062 ]  Pj:[ -103.63084621143825 2.500000000015916 184.55818595081186 ]\n",
      "  Frame2D: node 12 to node 13:\n",
      "     material properties: ElasticSection(Material)({'E': 20000.0, 'A': 100.0, 'I': 10.5, 'nu': 0.0, 'fy': 1e+30})  strain:{'axial': -5.1815423105719126e-05, 'flexure': 0.0}   stress:{'axial': -103.63084621143825, 'flexure': 0.0}  \n",
      "     internal force: -103.63084621143825\n",
      "     Pi:[ 103.63084621143825 -2.500000000015234 -184.55818595032528 ]  Pj:[ -103.63084621143825 3.125000000015234 147.64377783123504 ]\n",
      "  Frame2D: node 13 to node 14:\n",
      "     material properties: ElasticSection(Material)({'E': 20000.0, 'A': 100.0, 'I': 10.5, 'nu': 0.0, 'fy': 1e+30})  strain:{'axial': -5.1815423105719126e-05, 'flexure': 0.0}   stress:{'axial': -103.63084621143825, 'flexure': 0.0}  \n",
      "     internal force: -103.63084621143825\n",
      "     Pi:[ 103.63084621143825 -3.1250000000136424 -147.64377783073482 ]  Pj:[ -103.63084621143825 3.7500000000136424 104.00042547360347 ]\n",
      "  Frame2D: node 14 to node 15:\n",
      "     material properties: ElasticSection(Material)({'E': 20000.0, 'A': 100.0, 'I': 10.5, 'nu': 0.0, 'fy': 1e+30})  strain:{'axial': -5.1815423105719126e-05, 'flexure': 0.0}   stress:{'axial': -103.63084621143825, 'flexure': 0.0}  \n",
      "     internal force: -103.63084621143825\n",
      "     Pi:[ 103.63084621143825 -3.750000000014552 -104.0004254736021 ]  Pj:[ -103.63084621143825 4.375000000014552 54.46807249202478 ]\n",
      "  Frame2D: node 15 to node 16:\n",
      "     material properties: ElasticSection(Material)({'E': 20000.0, 'A': 100.0, 'I': 10.5, 'nu': 0.0, 'fy': 1e+30})  strain:{'axial': -5.1815423105719126e-05, 'flexure': 0.0}   stress:{'axial': -103.63084621143825, 'flexure': 0.0}  \n",
      "     internal force: -103.63084621143825\n",
      "     Pi:[ 103.63084621143825 -4.375000000013642 -54.46807249202478 ]  Pj:[ -103.63084621143825 5.000000000013642 3.03146396873899e-13 ]\n",
      "\n"
     ]
    }
   ],
   "source": [
    "# add loads\n",
    "# .. load only the upper nodes\n",
    "Pcr = np.pi**2 * EI / L**2\n",
    "ndi.setLoad((-0.5*Pcr,), ('ux',))\n",
    "\n",
    "# show model information\n",
    "print(model)\n",
    "\n",
    "model.solve(verbose=True)\n",
    "\n",
    "model.report()\n"
   ]
  },
  {
   "cell_type": "code",
   "execution_count": 5,
   "id": "95bd9427",
   "metadata": {},
   "outputs": [
    {
     "data": {
      "image/png": "[encoded data removed]",
      "text/plain": [
       "<Figure size 432x288 with 1 Axes>"
      ]
     },
     "metadata": {
      "needs_background": "light"
     },
     "output_type": "display_data"
    },
    {
     "data": {
      "image/png": "[encoded data removed]",
      "text/plain": [
       "<Figure size 432x288 with 1 Axes>"
      ]
     },
     "metadata": {
      "needs_background": "light"
     },
     "output_type": "display_data"
    },
    {
     "data": {
      "image/png": "[encoded data removed]",
      "text/plain": [
       "<Figure size 432x288 with 1 Axes>"
      ]
     },
     "metadata": {
      "needs_background": "light"
     },
     "output_type": "display_data"
    },
    {
     "data": {
      "image/png": "[encoded data removed]",
      "text/plain": [
       "<Figure size 432x288 with 1 Axes>"
      ]
     },
     "metadata": {
      "needs_background": "light"
     },
     "output_type": "display_data"
    }
   ],
   "source": [
    "# create plots\n",
    "\n",
    "model.plot(factor=10.0)\n",
    "\n",
    "model.beamValuePlot(\"F\")\n",
    "model.beamValuePlot(\"M\")\n",
    "model.beamValuePlot(\"V\")"
   ]
  },
  {
   "cell_type": "markdown",
   "id": "9dc16de0",
   "metadata": {},
   "source": [
    "## Stability Analysis"
   ]
  },
  {
   "cell_type": "code",
   "execution_count": null,
   "id": "b9aff45d",
   "metadata": {},
   "outputs": [],
   "source": []
  }
 ],
 "metadata": {
  "kernelspec": {
   "display_name": "Python 3 (ipykernel)",
   "language": "python",
   "name": "python3"
  },
  "language_info": {
   "codemirror_mode": {
    "name": "ipython",
    "version": 3
   },
   "file_extension": ".py",
   "mimetype": "text/x-python",
   "name": "python",
   "nbconvert_exporter": "python",
   "pygments_lexer": "ipython3",
   "version": "3.10.8"
  }
 },
 "nbformat": 4,
 "nbformat_minor": 5
}
