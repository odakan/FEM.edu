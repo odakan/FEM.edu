{
 "cells": [
  {
   "cell_type": "markdown",
   "id": "9c59a118",
   "metadata": {},
   "source": [
    "# A Finite Element Examples: Frame 03\n",
    "\n",
    "This example is based on the frame03 example distributed with FEM.edu\n",
    "\n",
    "This is a single story-single bay frame system."
   ]
  },
  {
   "cell_type": "markdown",
   "id": "59ec54b3",
   "metadata": {},
   "source": [
    "## Load needed components"
   ]
  },
  {
   "cell_type": "markdown",
   "id": "606af4c0",
   "metadata": {},
   "source": [
    "We need to add the local code to the path or python won't find FEM.edu"
   ]
  },
  {
   "cell_type": "code",
   "execution_count": 2,
   "id": "87e9aa99",
   "metadata": {},
   "outputs": [],
   "source": [
    "import sys, os\n",
    "sys.path.insert(0, os.path.abspath(os.path.join(\"..\")))"
   ]
  },
  {
   "cell_type": "markdown",
   "id": "0cbe6efe",
   "metadata": {},
   "source": [
    "Now load the needed components of FEM.edu"
   ]
  },
  {
   "cell_type": "code",
   "execution_count": 3,
   "id": "8677f776",
   "metadata": {},
   "outputs": [],
   "source": [
    "from femedu.domain import *\n",
    "from femedu.solver.NewtonRaphsonSolver import *\n",
    "from femedu.elements.Frame2D import *\n",
    "from femedu.materials.ElasticSection import *"
   ]
  },
  {
   "cell_type": "markdown",
   "id": "e6818727",
   "metadata": {},
   "source": [
    "## Build a model"
   ]
  },
  {
   "cell_type": "code",
   "execution_count": 4,
   "id": "e62cf3a9",
   "metadata": {},
   "outputs": [
    {
     "name": "stdout",
     "output_type": "stream",
     "text": [
      "System object\n",
      "Node0({'ux': 0, 'uy': 1, 'rz': 2}, x=[0. 0.], u=None)\n",
      "Node1({'ux': 0, 'uy': 1, 'rz': 2}, x=[ 0. 50.], u=None)\n",
      "Node2({'ux': 0, 'uy': 1, 'rz': 2}, x=[80.  0.], u=None)\n",
      "Node3({'ux': 0, 'uy': 1, 'rz': 2}, x=[80. 50.], u=None)\n",
      "Frame2D(Node0({'ux': 0, 'uy': 1, 'rz': 2}, x=[0. 0.], u=None),Node1({'ux': 0, 'uy': 1, 'rz': 2}, x=[ 0. 50.], u=None),ElasticSection(Material)({'E': 29000.0, 'A': 20.0, 'I': 10.0, 'nu': 0.0, 'fy': 1e+30}))\n",
      "Frame2D(Node2({'ux': 0, 'uy': 1, 'rz': 2}, x=[80.  0.], u=None),Node3({'ux': 0, 'uy': 1, 'rz': 2}, x=[80. 50.], u=None),ElasticSection(Material)({'E': 29000.0, 'A': 20.0, 'I': 10.0, 'nu': 0.0, 'fy': 1e+30}))\n",
      "Frame2D(Node1({'ux': 0, 'uy': 1, 'rz': 2}, x=[ 0. 50.], u=None),Node3({'ux': 0, 'uy': 1, 'rz': 2}, x=[80. 50.], u=None),ElasticSection(Material)({'E': 29000.0, 'A': 20.0, 'I': 80.0, 'nu': 0.0, 'fy': 1e+30}))\n"
     ]
    }
   ],
   "source": [
    "# initialize a system model\n",
    "\n",
    "N  = 8     # number of elements\n",
    "\n",
    "B = 240.\n",
    "H = 200.\n",
    "\n",
    "E  = 29000.0\n",
    "A = 20.0\n",
    "I = 10.0\n",
    "\n",
    "w = 1.0\n",
    "load_at_nodes_only = False # set to True to apply equivalent nodal forces and moments\n",
    "\n",
    "Ph = 0.00      # additional horizontal load per floor (imperfection)\n",
    "\n",
    "# ========== setting global parameters ==============\n",
    "\n",
    "target_load_level = 27\n",
    "max_steps = 10\n",
    "load_levels = np.linspace(0, target_load_level, max_steps)\n",
    "\n",
    "# ========= build your structural model =============\n",
    "\n",
    "model = System()\n",
    "model.setSolver(NewtonRaphsonSolver())\n",
    "\n",
    "x0 = 0.0\n",
    "x1 = B / 3\n",
    "x2 = 2 * B / 3\n",
    "x3 = B\n",
    "\n",
    "y0 = 0.0\n",
    "y1 = H / 4\n",
    "y2 = 2 * H / 4\n",
    "y3 = 3 * H / 4\n",
    "y4 = H\n",
    "\n",
    "X10 = Node(x0, y0)\n",
    "X11 = Node(x0, y1)\n",
    "\n",
    "X20 = Node(x1, y0)\n",
    "X21 = Node(x1, y1)\n",
    "\n",
    "model.addNode(X10,X11)\n",
    "model.addNode(X20,X21)\n",
    "\n",
    "# columns\n",
    "\n",
    "params = {'E': E, 'A': A, 'I': I}\n",
    "\n",
    "C11 = Frame2D(X10, X11, ElasticSection(params))\n",
    "C21 = Frame2D(X20, X21, ElasticSection(params))\n",
    "\n",
    "model.addElement(C11,C21)\n",
    "\n",
    "# floors\n",
    "\n",
    "params = {'E': E, 'A': A, 'I': 8*I}\n",
    "\n",
    "F11 = Frame2D(X11, X21, ElasticSection(params))\n",
    "\n",
    "model.addElement(F11)\n",
    "\n",
    "# fixities\n",
    "X10.fixDOF('ux','uy','rz')   # fixed\n",
    "X20.fixDOF('ux','uy','rz')   # fixed\n",
    "\n",
    "# reference load\n",
    "#Pcr = np.pi**2 * EI / L**2\n",
    "model.resetLoad()            # size load vector and initialize\n",
    "#model.addLoad(Xn, -Pcr, dof=0) # add a horizontal force (first dof only) ; remember C-style indexing: 0,1,...,(n-1)\n",
    "\n",
    "if load_at_nodes_only:\n",
    "\n",
    "    # floor loading as nodal loads ...\n",
    "\n",
    "    Pe = w * B/3\n",
    "    Mi = w * (B/3)**2 /12\n",
    "\n",
    "    X11.addLoad([-Pe/2., -Mi],['uy','rz'])\n",
    "    X21.addLoad([-Pe/2.,  Mi],['uy','rz'])\n",
    "\n",
    "else:\n",
    "\n",
    "    # floor loading as distributed loads ...\n",
    "\n",
    "    F11.setDistLoad(-w)\n",
    "\n",
    "\n",
    "# wind load ...\n",
    "\n",
    "X11.addLoad([Ph],['ux'])   # horizontal load\n",
    "\n",
    "\n",
    "# show model information\n",
    "print(model)\n",
    "\n"
   ]
  },
  {
   "cell_type": "markdown",
   "id": "9dc16de0",
   "metadata": {},
   "source": [
    "## Path-Following and Stability Analysis"
   ]
  },
  {
   "cell_type": "code",
   "execution_count": 5,
   "id": "b9aff45d",
   "metadata": {},
   "outputs": [
    {
     "name": "stdout",
     "output_type": "stream",
     "text": [
      "norm of the out-of-balance force:   0.0000e+00\n",
      "+\n",
      "\n",
      " ** Stability check: (smallest eigenvalue of Kt) = 25.36286606691515\n",
      "\n",
      "+\n",
      "\n",
      "=== next load level ===\n",
      "\n",
      "norm of the out-of-balance force:   2.2691e+03\n",
      "norm of the out-of-balance force:   2.7690e+01\n",
      "norm of the out-of-balance force:   2.5832e-02\n",
      "norm of the out-of-balance force:   5.8606e-05\n",
      "norm of the out-of-balance force:   1.3304e-07\n",
      "+\n",
      "\n",
      " ** Stability check: (smallest eigenvalue of Kt) = 22.553344322670146\n",
      "\n",
      "+\n",
      "\n",
      "=== next load level ===\n",
      "\n",
      "norm of the out-of-balance force:   2.2691e+03\n",
      "norm of the out-of-balance force:   5.7335e+01\n",
      "norm of the out-of-balance force:   1.0732e-01\n",
      "norm of the out-of-balance force:   4.9127e-04\n",
      "norm of the out-of-balance force:   2.2490e-06\n",
      "norm of the out-of-balance force:   1.0102e-08\n",
      "+\n",
      "\n",
      " ** Stability check: (smallest eigenvalue of Kt) = 19.736675218782175\n",
      "\n",
      "+\n",
      "\n",
      "=== next load level ===\n",
      "\n",
      "norm of the out-of-balance force:   2.2691e+03\n",
      "norm of the out-of-balance force:   8.9173e+01\n",
      "norm of the out-of-balance force:   2.5073e-01\n",
      "norm of the out-of-balance force:   1.7372e-03\n",
      "norm of the out-of-balance force:   1.2036e-05\n",
      "norm of the out-of-balance force:   8.3318e-08\n",
      "+\n",
      "\n",
      " ** Stability check: (smallest eigenvalue of Kt) = 16.91257943491086\n",
      "\n",
      "+\n",
      "\n",
      "=== next load level ===\n",
      "\n",
      "norm of the out-of-balance force:   2.2691e+03\n",
      "norm of the out-of-balance force:   1.2348e+02\n",
      "norm of the out-of-balance force:   4.6258e-01\n",
      "norm of the out-of-balance force:   4.3136e-03\n",
      "norm of the out-of-balance force:   4.0225e-05\n",
      "norm of the out-of-balance force:   3.7531e-07\n",
      "+\n",
      "\n",
      " ** Stability check: (smallest eigenvalue of Kt) = 14.080761870666587\n",
      "\n",
      "+\n",
      "\n",
      "=== next load level ===\n",
      "\n",
      "norm of the out-of-balance force:   2.2691e+03\n",
      "norm of the out-of-balance force:   1.6058e+02\n",
      "norm of the out-of-balance force:   7.4959e-01\n",
      "norm of the out-of-balance force:   8.8231e-03\n",
      "norm of the out-of-balance force:   1.0385e-04\n",
      "norm of the out-of-balance force:   1.2225e-06\n",
      "norm of the out-of-balance force:   1.4351e-08\n",
      "+\n",
      "\n",
      " ** Stability check: (smallest eigenvalue of Kt) = 11.240910493709166\n",
      "\n",
      "+\n",
      "\n",
      "=== next load level ===\n",
      "\n",
      "norm of the out-of-balance force:   2.2691e+03\n",
      "norm of the out-of-balance force:   2.0086e+02\n",
      "norm of the out-of-balance force:   1.1185e+00\n",
      "norm of the out-of-balance force:   1.5960e-02\n",
      "norm of the out-of-balance force:   2.2773e-04\n",
      "norm of the out-of-balance force:   3.2493e-06\n",
      "norm of the out-of-balance force:   4.6227e-08\n",
      "+\n",
      "\n",
      " ** Stability check: (smallest eigenvalue of Kt) = 8.392695084555205\n",
      "\n",
      "+\n",
      "\n",
      "=== next load level ===\n",
      "\n",
      "norm of the out-of-balance force:   2.2691e+03\n",
      "norm of the out-of-balance force:   2.4477e+02\n",
      "norm of the out-of-balance force:   1.5757e+00\n",
      "norm of the out-of-balance force:   2.6511e-02\n",
      "norm of the out-of-balance force:   4.4606e-04\n",
      "norm of the out-of-balance force:   7.5051e-06\n",
      "norm of the out-of-balance force:   1.2614e-07\n",
      "+\n",
      "\n",
      " ** Stability check: (smallest eigenvalue of Kt) = 5.535765867204872\n",
      "\n",
      "+\n",
      "\n",
      "=== next load level ===\n",
      "\n",
      "norm of the out-of-balance force:   2.2691e+03\n",
      "norm of the out-of-balance force:   2.9285e+02\n",
      "norm of the out-of-balance force:   2.1268e+00\n",
      "norm of the out-of-balance force:   4.1357e-02\n",
      "norm of the out-of-balance force:   8.0422e-04\n",
      "norm of the out-of-balance force:   1.5638e-05\n",
      "norm of the out-of-balance force:   3.0421e-07\n",
      "+\n",
      "\n",
      " ** Stability check: (smallest eigenvalue of Kt) = 2.669752012643276\n",
      "\n",
      "+\n",
      "\n",
      "=== next load level ===\n",
      "\n",
      "norm of the out-of-balance force:   2.2691e+03\n",
      "norm of the out-of-balance force:   3.4574e+02\n",
      "norm of the out-of-balance force:   2.7763e+00\n",
      "norm of the out-of-balance force:   6.1460e-02\n",
      "norm of the out-of-balance force:   1.3605e-03\n",
      "norm of the out-of-balance force:   3.0118e-05\n",
      "norm of the out-of-balance force:   6.6648e-07\n",
      "+\n",
      "\n",
      " ** Stability check: (smallest eigenvalue of Kt) = 0.20573999904341242\n",
      "\n",
      "+\n",
      "\n",
      "=== next load level ===\n",
      "\n",
      "[0.0, 3.0, 6.0, 9.0, 12.0, 15.0, 18.0, 21.0, 24.0, 27.0]\n",
      "[25.36286606691515, 22.553344322670146, 19.736675218782175, 16.91257943491086, 14.080761870666587, 11.240910493709166, 8.392695084555205, 5.535765867204872, 2.669752012643276, 0.20573999904341242]\n"
     ]
    }
   ],
   "source": [
    "# initialize the analysis:\n",
    "model.resetDisplacements()   # set U to all zeros\n",
    "model.setLoadFactor(0.0)     # define a known equilibrium solution\n",
    "\n",
    "model.startRecorder()        # not doing anything yet, but will do the data collection soon\n",
    "\n",
    "detKt   = []\n",
    "lambdas = []\n",
    "\n",
    "# solve for all load_levels\n",
    "for loadfactor in load_levels:\n",
    "\n",
    "    # define node X2 as the controled node; downward direction is prescribed:\n",
    "    model.setLoadFactor(loadfactor)\n",
    "    model.solve(verbose=True)\n",
    "\n",
    "    # stability check\n",
    "    lambdas.append(model.loadfactor)\n",
    "    detKt.append(model.solver.checkStability())\n",
    "\n",
    "    # report results\n",
    "    print('+')\n",
    "    #model.report()\n",
    "\n",
    "    print(\"\\n=== next load level ===\\n\")\n",
    "    \n",
    "\n",
    "print(lambdas)\n",
    "print(detKt)\n"
   ]
  },
  {
   "cell_type": "code",
   "execution_count": 6,
   "id": "e4f97d43",
   "metadata": {},
   "outputs": [
    {
     "name": "stdout",
     "output_type": "stream",
     "text": [
      "\n",
      "System Analysis Report\n",
      "=======================\n",
      "\n",
      "Nodes:\n",
      "---------------------\n",
      "  Node 0: {'ux': 0, 'uy': 1, 'rz': 2}\n",
      "          x:[0. 0.], fix:['ux', 'uy', 'rz'], \n",
      "          P:[0. 0. 0.], u:[0. 0. 0.]\n",
      "  Node 1: {'ux': 0, 'uy': 1, 'rz': 2}\n",
      "          x:[ 0. 50.], fix:[], \n",
      "          P:[0. 0. 0.], u:[ 0.00807668 -0.09310345 -0.20194602]\n",
      "  Node 2: {'ux': 0, 'uy': 1, 'rz': 2}\n",
      "          x:[80.  0.], fix:['ux', 'uy', 'rz'], \n",
      "          P:[0. 0. 0.], u:[0. 0. 0.]\n",
      "  Node 3: {'ux': 0, 'uy': 1, 'rz': 2}\n",
      "          x:[80. 50.], fix:[], \n",
      "          P:[0. 0. 0.], u:[-0.00807668 -0.09310345  0.20194602]\n",
      "\n",
      "Elements:\n",
      "---------------------\n",
      "  Frame2D: node 0 to node 1:\n",
      "     material properties: ElasticSection(Material)({'E': 29000.0, 'A': 20.0, 'I': 10.0, 'nu': 0.0, 'fy': 1e+30})  strain:{'axial': -0.0018620689655172412, 'flexure': 0.0}   stress:{'axial': -1079.9999999999998, 'flexure': 0.0}  \n",
      "     internal forces: f0=-1080.00 V0=-117.11 M0=2842.69 fl=-1080.00 Vl=-117.11 Ml=-3004.18 Pw=0.00 Mw=0.00\n",
      "  Frame2D: node 2 to node 3:\n",
      "     material properties: ElasticSection(Material)({'E': 29000.0, 'A': 20.0, 'I': 10.0, 'nu': 0.0, 'fy': 1e+30})  strain:{'axial': -0.0018620689655172418, 'flexure': 0.0}   stress:{'axial': -1080.0000000000002, 'flexure': 0.0}  \n",
      "     internal forces: f0=-1080.00 V0=117.11 M0=-2842.69 fl=-1080.00 Vl=117.11 Ml=3004.18 Pw=0.00 Mw=0.00\n",
      "  Frame2D: node 1 to node 3:\n",
      "     material properties: ElasticSection(Material)({'E': 29000.0, 'A': 20.0, 'I': 80.0, 'nu': 0.0, 'fy': 1e+30})  strain:{'axial': -0.0002019171049710674, 'flexure': 0.0}   stress:{'axial': -117.11192088321908, 'flexure': 0.0}  \n",
      "     internal forces: f0=-117.11 V0=-0.00 M0=11395.82 fl=-117.11 Vl=-0.00 Ml=11395.82 Pw=-1080.00 Mw=-14400.00\n",
      "\n"
     ]
    }
   ],
   "source": [
    "#\n",
    "# ==== check the current state of the model ===\n",
    "#\n",
    "\n",
    "model.report()"
   ]
  },
  {
   "cell_type": "code",
   "execution_count": 7,
   "id": "92a5aa49",
   "metadata": {},
   "outputs": [
    {
     "data": {
      "image/png": "[encoded data removed]",
      "text/plain": [
       "<Figure size 432x288 with 1 Axes>"
      ]
     },
     "metadata": {
      "needs_background": "light"
     },
     "output_type": "display_data"
    },
    {
     "data": {
      "image/png": "[encoded data removed]",
      "text/plain": [
       "<Figure size 432x288 with 1 Axes>"
      ]
     },
     "metadata": {
      "needs_background": "light"
     },
     "output_type": "display_data"
    },
    {
     "data": {
      "image/png": "[encoded data removed]",
      "text/plain": [
       "<Figure size 432x288 with 1 Axes>"
      ]
     },
     "metadata": {
      "needs_background": "light"
     },
     "output_type": "display_data"
    },
    {
     "data": {
      "image/png": "[encoded data removed]",
      "text/plain": [
       "<Figure size 432x288 with 1 Axes>"
      ]
     },
     "metadata": {
      "needs_background": "light"
     },
     "output_type": "display_data"
    },
    {
     "data": {
      "image/png": "[encoded data removed]",
      "text/plain": [
       "<Figure size 432x288 with 1 Axes>"
      ]
     },
     "metadata": {
      "needs_background": "light"
     },
     "output_type": "display_data"
    },
    {
     "data": {
      "image/png": "[encoded data removed]",
      "text/plain": [
       "<Figure size 432x288 with 1 Axes>"
      ]
     },
     "metadata": {
      "needs_background": "light"
     },
     "output_type": "display_data"
    }
   ],
   "source": [
    "#\n",
    "# ==== create some nice plots ===\n",
    "#\n",
    "\n",
    "plt.plot(lambdas,detKt,'--*r')\n",
    "plt.grid(True)\n",
    "plt.xlabel('Load factor, $ \\lambda $')\n",
    "plt.ylabel(\"Stability index, $ {det}\\: {\\\\bf K}_t $\")\n",
    "plt.show()\n",
    "\n",
    "model.plot(factor=1.0)\n",
    "\n",
    "model.beamValuePlot(\"F\")\n",
    "model.beamValuePlot(\"M\")\n",
    "model.beamValuePlot(\"V\")\n",
    "\n",
    "model.plotBucklingMode(factor=25.)\n"
   ]
  },
  {
   "cell_type": "code",
   "execution_count": null,
   "id": "3e4d7e1c",
   "metadata": {},
   "outputs": [],
   "source": []
  }
 ],
 "metadata": {
  "kernelspec": {
   "display_name": "Python 3 (ipykernel)",
   "language": "python",
   "name": "python3"
  },
  "language_info": {
   "codemirror_mode": {
    "name": "ipython",
    "version": 3
   },
   "file_extension": ".py",
   "mimetype": "text/x-python",
   "name": "python",
   "nbconvert_exporter": "python",
   "pygments_lexer": "ipython3",
   "version": "3.10.8"
  }
 },
 "nbformat": 4,
 "nbformat_minor": 5
}
