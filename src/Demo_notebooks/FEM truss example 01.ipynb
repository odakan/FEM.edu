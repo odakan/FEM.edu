{
 "cells": [
  {
   "cell_type": "markdown",
   "id": "9c59a118",
   "metadata": {},
   "source": [
    "# A Finite Element Examples: Truss 01\n",
    "\n",
    "This example is based on the truss01 example distributed with FEM.edu"
   ]
  },
  {
   "cell_type": "markdown",
   "id": "59ec54b3",
   "metadata": {},
   "source": [
    "## Load needed components"
   ]
  },
  {
   "cell_type": "markdown",
   "id": "606af4c0",
   "metadata": {},
   "source": [
    "We need to add the local code to the path or python won't find FEM.edu"
   ]
  },
  {
   "cell_type": "code",
   "execution_count": 1,
   "id": "87e9aa99",
   "metadata": {},
   "outputs": [],
   "source": [
    "import sys, os\n",
    "sys.path.insert(0, os.path.abspath(os.path.join(\"..\")))"
   ]
  },
  {
   "cell_type": "markdown",
   "id": "0cbe6efe",
   "metadata": {},
   "source": [
    "Now load the needed components of FEM.edu"
   ]
  },
  {
   "cell_type": "code",
   "execution_count": 2,
   "id": "8677f776",
   "metadata": {},
   "outputs": [],
   "source": [
    "from femedu.domain import *\n",
    "from femedu.elements.Truss import Truss\n",
    "from femedu.materials.FiberMaterial import FiberMaterial"
   ]
  },
  {
   "cell_type": "markdown",
   "id": "e6818727",
   "metadata": {},
   "source": [
    "## Build a model"
   ]
  },
  {
   "cell_type": "code",
   "execution_count": 3,
   "id": "bc78b102",
   "metadata": {},
   "outputs": [],
   "source": [
    "# initialize a system model\n",
    "B = 6.0 * 12\n",
    "H = 3.0 * 12\n",
    "params = {'E': 10., 'A': 1., 'nu': 0.0, 'fy': 1.e30}\n",
    "\n",
    "model = System()\n",
    "\n",
    "# create nodes\n",
    "nd0 = Node(0.0, 0.0)\n",
    "nd1 = Node(  B, 0.0)\n",
    "nd2 = Node(0.5*B, H)\n",
    "\n",
    "model += nd0\n",
    "model += nd1\n",
    "model += nd2\n",
    "\n",
    "# create elements\n",
    "model += Truss(nd0, nd1, FiberMaterial(params))  # bottom 1\n",
    "model += Truss(nd0, nd2, FiberMaterial(params))  # up right diag 1\n",
    "model += Truss(nd1, nd2, FiberMaterial(params))  # up left diag 1\n",
    "\n",
    "# define support(s)\n",
    "nd0.fixDOF(['ux','uy'])    # horizontal and vertical support left end\n",
    "nd1.fixDOF('uy')           # vertical support right end\n",
    "\n"
   ]
  },
  {
   "cell_type": "markdown",
   "id": "fc41d46e",
   "metadata": {},
   "source": [
    "## Load the model and solve"
   ]
  },
  {
   "cell_type": "code",
   "execution_count": 4,
   "id": "d39cabf8",
   "metadata": {},
   "outputs": [
    {
     "name": "stdout",
     "output_type": "stream",
     "text": [
      "\n",
      "System Analysis Report\n",
      "=======================\n",
      "\n",
      "Nodes:\n",
      "---------------------\n",
      "  Node 0: {'ux': 0, 'uy': 1}\n",
      "          x:[0. 0.], fix:['ux', 'uy'], \n",
      "          P:[0. 0.], u:[0. 0.]\n",
      "  Node 1: {'ux': 0, 'uy': 1}\n",
      "          x:[72.  0.], fix:['uy'], \n",
      "          P:[0. 0.], u:[3.6 0. ]\n",
      "  Node 2: {'ux': 0, 'uy': 1}\n",
      "          x:[36. 36.], fix:[], \n",
      "          P:[ 0. -1.], u:[ 1.8        -6.89116882]\n",
      "\n",
      "Elements:\n",
      "---------------------\n",
      "  Truss: node 0 to node 1:\n",
      "     material properties: FiberMaterial(Material)({'E': 10.0, 'A': 1.0, 'nu': 0.0, 'fy': 1e+30})  strain:0.04761904761904761   stress:{'xx': 0.4761904761904761, 'yy': 0.0, 'zz': 0.0, 'xy': 0.0}  \n",
      "     internal force: 0.4761904761904761\n",
      "     Pe: [ 0.4761904761904761 0.0 ]\n",
      "  Truss: node 0 to node 2:\n",
      "     material properties: FiberMaterial(Material)({'E': 10.0, 'A': 1.0, 'nu': 0.0, 'fy': 1e+30})  strain:-0.05823563981487166   stress:{'xx': -0.5823563981487166, 'yy': 0.0, 'zz': 0.0, 'xy': 0.0}  \n",
      "     internal force: -0.5823563981487166\n",
      "     Pe: [ -0.46140136076020055 -0.3553136062035647 ]\n",
      "  Truss: node 1 to node 2:\n",
      "     material properties: FiberMaterial(Material)({'E': 10.0, 'A': 1.0, 'nu': 0.0, 'fy': 1e+30})  strain:-0.058235639814871655   stress:{'xx': -0.5823563981487165, 'yy': 0.0, 'zz': 0.0, 'xy': 0.0}  \n",
      "     internal force: -0.5823563981487165\n",
      "     Pe: [ 0.4614013607602005 -0.3553136062035646 ]\n",
      "\n"
     ]
    }
   ],
   "source": [
    "# add loads\n",
    "# .. load only the upper nodes\n",
    "nd2.setLoad([0.0, -1.0],['ux','uy'])\n",
    "\n",
    "# analyze the model\n",
    "model.solve()\n",
    "\n",
    "# write out report\n",
    "model.report()"
   ]
  },
  {
   "cell_type": "code",
   "execution_count": 5,
   "id": "95bd9427",
   "metadata": {},
   "outputs": [
    {
     "data": {
      "image/png": "[encoded data removed]",
      "text/plain": [
       "<Figure size 432x288 with 1 Axes>"
      ]
     },
     "metadata": {
      "needs_background": "light"
     },
     "output_type": "display_data"
    },
    {
     "data": {
      "image/png": "[encoded data removed]",
      "text/plain": [
       "<Figure size 432x288 with 1 Axes>"
      ]
     },
     "metadata": {
      "needs_background": "light"
     },
     "output_type": "display_data"
    }
   ],
   "source": [
    "# create plots\n",
    "model.plot(factor=2.)\n",
    "model.beamValuePlot('f')"
   ]
  },
  {
   "cell_type": "markdown",
   "id": "cb1e2279",
   "metadata": {},
   "source": [
    "### Compare behavior against fixed-fixed conditions\n",
    "\n",
    "We are using the same model but add one restraint at `nd1`"
   ]
  },
  {
   "cell_type": "code",
   "execution_count": 6,
   "id": "8d4ee5a9",
   "metadata": {},
   "outputs": [
    {
     "data": {
      "image/png": "[encoded data removed]",
      "text/plain": [
       "<Figure size 432x288 with 1 Axes>"
      ]
     },
     "metadata": {
      "needs_background": "light"
     },
     "output_type": "display_data"
    },
    {
     "data": {
      "image/png": "[encoded data removed]",
      "text/plain": [
       "<Figure size 432x288 with 1 Axes>"
      ]
     },
     "metadata": {
      "needs_background": "light"
     },
     "output_type": "display_data"
    }
   ],
   "source": [
    "# fix horizontal motion of node 1\n",
    "nd1.fixDOF('ux')\n",
    "\n",
    "# add loads: same load -- nothing to do\n",
    "\n",
    "# RE-analyze the model\n",
    "model.resetDisp()\n",
    "model.solve()\n",
    "\n",
    "# skip the report\n",
    "#model.report()\n",
    "\n",
    "# create plots\n",
    "model.plot(factor=2.)\n",
    "model.beamValuePlot('F')"
   ]
  },
  {
   "cell_type": "code",
   "execution_count": null,
   "id": "8bbe3a2b",
   "metadata": {},
   "outputs": [],
   "source": []
  }
 ],
 "metadata": {
  "kernelspec": {
   "display_name": "Python 3 (ipykernel)",
   "language": "python",
   "name": "python3"
  },
  "language_info": {
   "codemirror_mode": {
    "name": "ipython",
    "version": 3
   },
   "file_extension": ".py",
   "mimetype": "text/x-python",
   "name": "python",
   "nbconvert_exporter": "python",
   "pygments_lexer": "ipython3",
   "version": "3.10.8"
  }
 },
 "nbformat": 4,
 "nbformat_minor": 5
}
